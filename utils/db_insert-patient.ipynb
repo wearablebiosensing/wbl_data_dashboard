{
 "cells": [
  {
   "cell_type": "code",
   "execution_count": 1,
   "metadata": {},
   "outputs": [],
   "source": [
    "import sqlalchemy as db\n",
    "import pandas as pd\n",
    "from sqlalchemy import create_engine\n",
    "import os\n",
    "from pathlib import Path\n",
    "file_ext = '.csv'"
   ]
  },
  {
   "cell_type": "code",
   "execution_count": 2,
   "metadata": {},
   "outputs": [],
   "source": [
    "engine = create_engine('sqlite:///../database/careportal-dev-hr-sdnn.db')\n",
    "connection = engine.connect()\n",
    "metadata = db.MetaData()\n",
    "user_patient = db.Table('user_patient', metadata, \n",
    "                     db.Column('id', db.Integer()),\n",
    "                     db.Column('doctor_id', db.Integer()),\n",
    "                     db.Column('acc_path', db.VARCHAR()),\n",
    "                     db.Column('hr_path', db.VARCHAR())\n",
    "                     )\n",
    "user_doctor = db.Table('user_doctor', metadata, \n",
    "                     db.Column('id', db.Integer()),\n",
    "                     db.Column('email', db.VARCHAR()),\n",
    "                     db.Column('password', db.VARCHAR())\n",
    "                     )\n",
    "metadata.create_all(engine)\n"
   ]
  },
  {
   "cell_type": "code",
   "execution_count": 5,
   "metadata": {},
   "outputs": [],
   "source": [
    "print(site.columns.keys())"
   ]
  },
  {
   "cell_type": "code",
   "execution_count": 5,
   "metadata": {},
   "outputs": [],
   "source": [
    "directory = '/Users/sabah/Documents/Projects/data/Patients/'"
   ]
  },
  {
   "cell_type": "code",
   "execution_count": 6,
   "metadata": {},
   "outputs": [],
   "source": [
    "id_acc = []\n",
    "id_hr = []\n",
    "id_con = []\n",
    "\n",
    "def get_ids(d):\n",
    "    for root, dirs, files in os.walk(d):\n",
    "        for file in files:\n",
    "              if file.endswith(file_ext):\n",
    "                filepath = os.path.join(root, file)\n",
    "                filename= filepath.split('/')[8].split('.')[0].split('_')\n",
    "                \n",
    "                if(filename[0] == 'ACC'):\n",
    "                    df_acc = pd.read_csv(filepath, usecols = ['Patient.ID'])\n",
    "                    df_acc_days = df_acc['Patient.ID'].unique()[0]\n",
    "                    id_acc.append(df_acc_days)\n",
    "\n",
    "                if(filename[0] == 'HR'):\n",
    "                    df_hr = pd.read_csv(filepath, usecols = ['Patient.ID'])\n",
    "                    df_hr_days = df_hr['Patient.ID'].unique()[0]\n",
    "                    id_hr.append(df_hr_days)\n",
    "                \n",
    "                if(filename[0] == 'Contact'):\n",
    "                    df_con = pd.read_csv(filepath, usecols = ['Patient.ID'])\n",
    "                    df_con_days = df_con['Patient.ID'].unique()[0]\n",
    "                    id_con.append(df_con_days)"
   ]
  },
  {
   "cell_type": "code",
   "execution_count": 15,
   "metadata": {},
   "outputs": [],
   "source": [
    "get_ids(directory)"
   ]
  },
  {
   "cell_type": "code",
   "execution_count": 7,
   "metadata": {},
   "outputs": [],
   "source": [
    "list_acc_path = []\n",
    "list_hr_path = []\n",
    "list_con_path = []\n",
    "\n",
    "def get_path(d):\n",
    "    for root, dirs, files in os.walk(d):\n",
    "        for file in files:\n",
    "              if file.endswith(file_ext):\n",
    "                filepath = os.path.join(root, file)\n",
    "                filename = filepath.split('/')[8].split('.')[0].split('_')\n",
    "                \n",
    "                if(filename[0] == 'ACC'):\n",
    "#                     df_acc = pd.read_csv(filepath, usecols = ['Patient.ID'])\n",
    "                    list_acc_path.append(filepath)\n",
    "    \n",
    "                if(filename[0] == 'HR'):\n",
    "                    list_hr_path.append(filepath)\n",
    "                \n",
    "                if(filename[0] == 'Contact'):\n",
    "                    list_con_path.append(filepath)"
   ]
  },
  {
   "cell_type": "code",
   "execution_count": 8,
   "metadata": {},
   "outputs": [],
   "source": [
    "get_path(directory)"
   ]
  },
  {
   "cell_type": "code",
   "execution_count": 6,
   "metadata": {},
   "outputs": [],
   "source": [
    "list_acc_path[0].split('/')"
   ]
  },
  {
   "cell_type": "code",
   "execution_count": 9,
   "metadata": {},
   "outputs": [],
   "source": [
    "hr_path = []\n",
    "acc_path = []\n",
    "def get_relativePath():\n",
    "    for item in list_hr_path:\n",
    "        head_tail = os.path.split(item)\n",
    "        dir_tail = os.path.split(head_tail[0])\n",
    "        rel_path = '/'+dir_tail[1] + '/' + head_tail[1]\n",
    "        hr_path.append(rel_path)\n",
    "        \n",
    "    for item in list_acc_path:\n",
    "        head_tail = os.path.split(item)\n",
    "        dir_tail = os.path.split(head_tail[0])\n",
    "        rel_path = '/'+dir_tail[1] + '/' + head_tail[1]\n",
    "        acc_path.append(rel_path)"
   ]
  },
  {
   "cell_type": "code",
   "execution_count": 10,
   "metadata": {},
   "outputs": [],
   "source": [
    "get_relativePath()"
   ]
  },
  {
   "cell_type": "code",
   "execution_count": 16,
   "metadata": {},
   "outputs": [],
   "source": [
    "dict_acc = {\n",
    "            'id': id_acc,\n",
    "            'acc_path':acc_path\n",
    "           }"
   ]
  },
  {
   "cell_type": "code",
   "execution_count": 18,
   "metadata": {},
   "outputs": [],
   "source": [
    "dict_hr = {\n",
    "            'id': id_hr, \n",
    "            'hr_path':hr_path\n",
    "           }"
   ]
  },
  {
   "cell_type": "code",
   "execution_count": 19,
   "metadata": {},
   "outputs": [],
   "source": [
    "df_acc_path = pd.DataFrame(dict_acc)\n",
    "df_hr_path = pd.DataFrame(dict_hr)"
   ]
  },
  {
   "cell_type": "code",
   "execution_count": 85,
   "metadata": {},
   "outputs": [
    {
     "data": {
      "text/html": [
       "<div>\n",
       "<style scoped>\n",
       "    .dataframe tbody tr th:only-of-type {\n",
       "        vertical-align: middle;\n",
       "    }\n",
       "\n",
       "    .dataframe tbody tr th {\n",
       "        vertical-align: top;\n",
       "    }\n",
       "\n",
       "    .dataframe thead th {\n",
       "        text-align: right;\n",
       "    }\n",
       "</style>\n",
       "<table border=\"1\" class=\"dataframe\">\n",
       "  <thead>\n",
       "    <tr style=\"text-align: right;\">\n",
       "      <th></th>\n",
       "      <th>id</th>\n",
       "      <th>acc_path</th>\n",
       "    </tr>\n",
       "  </thead>\n",
       "  <tbody>\n",
       "    <tr>\n",
       "      <th>0</th>\n",
       "      <td>75</td>\n",
       "      <td>/PatientID_75/ACC_75.csv</td>\n",
       "    </tr>\n",
       "    <tr>\n",
       "      <th>1</th>\n",
       "      <td>81</td>\n",
       "      <td>/PatientID_81/ACC_81.csv</td>\n",
       "    </tr>\n",
       "    <tr>\n",
       "      <th>2</th>\n",
       "      <td>158</td>\n",
       "      <td>/PatientID_158/ACC_158.csv</td>\n",
       "    </tr>\n",
       "    <tr>\n",
       "      <th>3</th>\n",
       "      <td>72</td>\n",
       "      <td>/PatientID_72/ACC_72.csv</td>\n",
       "    </tr>\n",
       "    <tr>\n",
       "      <th>4</th>\n",
       "      <td>151</td>\n",
       "      <td>/PatientID_151/ACC_151.csv</td>\n",
       "    </tr>\n",
       "    <tr>\n",
       "      <th>...</th>\n",
       "      <td>...</td>\n",
       "      <td>...</td>\n",
       "    </tr>\n",
       "    <tr>\n",
       "      <th>109</th>\n",
       "      <td>38</td>\n",
       "      <td>/PatientID_38/ACC_38.csv</td>\n",
       "    </tr>\n",
       "    <tr>\n",
       "      <th>110</th>\n",
       "      <td>115</td>\n",
       "      <td>/PatientID_115/ACC_115.csv</td>\n",
       "    </tr>\n",
       "    <tr>\n",
       "      <th>111</th>\n",
       "      <td>36</td>\n",
       "      <td>/PatientID_36/ACC_36.csv</td>\n",
       "    </tr>\n",
       "    <tr>\n",
       "      <th>112</th>\n",
       "      <td>918</td>\n",
       "      <td>/PatientID_918/ACC_918.csv</td>\n",
       "    </tr>\n",
       "    <tr>\n",
       "      <th>113</th>\n",
       "      <td>31</td>\n",
       "      <td>/PatientID_31/ACC_31.csv</td>\n",
       "    </tr>\n",
       "  </tbody>\n",
       "</table>\n",
       "<p>114 rows × 2 columns</p>\n",
       "</div>"
      ],
      "text/plain": [
       "      id                    acc_path\n",
       "0     75    /PatientID_75/ACC_75.csv\n",
       "1     81    /PatientID_81/ACC_81.csv\n",
       "2    158  /PatientID_158/ACC_158.csv\n",
       "3     72    /PatientID_72/ACC_72.csv\n",
       "4    151  /PatientID_151/ACC_151.csv\n",
       "..   ...                         ...\n",
       "109   38    /PatientID_38/ACC_38.csv\n",
       "110  115  /PatientID_115/ACC_115.csv\n",
       "111   36    /PatientID_36/ACC_36.csv\n",
       "112  918  /PatientID_918/ACC_918.csv\n",
       "113   31    /PatientID_31/ACC_31.csv\n",
       "\n",
       "[114 rows x 2 columns]"
      ]
     },
     "execution_count": 85,
     "metadata": {},
     "output_type": "execute_result"
    }
   ],
   "source": [
    "df_acc_path"
   ]
  },
  {
   "cell_type": "code",
   "execution_count": 20,
   "metadata": {},
   "outputs": [
    {
     "data": {
      "text/html": [
       "<div>\n",
       "<style scoped>\n",
       "    .dataframe tbody tr th:only-of-type {\n",
       "        vertical-align: middle;\n",
       "    }\n",
       "\n",
       "    .dataframe tbody tr th {\n",
       "        vertical-align: top;\n",
       "    }\n",
       "\n",
       "    .dataframe thead th {\n",
       "        text-align: right;\n",
       "    }\n",
       "</style>\n",
       "<table border=\"1\" class=\"dataframe\">\n",
       "  <thead>\n",
       "    <tr style=\"text-align: right;\">\n",
       "      <th></th>\n",
       "      <th>id</th>\n",
       "      <th>hr_path</th>\n",
       "    </tr>\n",
       "  </thead>\n",
       "  <tbody>\n",
       "    <tr>\n",
       "      <th>0</th>\n",
       "      <td>75</td>\n",
       "      <td>/PatientID_75/HR_75.csv</td>\n",
       "    </tr>\n",
       "    <tr>\n",
       "      <th>1</th>\n",
       "      <td>81</td>\n",
       "      <td>/PatientID_81/HR_81.csv</td>\n",
       "    </tr>\n",
       "    <tr>\n",
       "      <th>2</th>\n",
       "      <td>158</td>\n",
       "      <td>/PatientID_158/HR_158.csv</td>\n",
       "    </tr>\n",
       "    <tr>\n",
       "      <th>3</th>\n",
       "      <td>72</td>\n",
       "      <td>/PatientID_72/HR_72.csv</td>\n",
       "    </tr>\n",
       "    <tr>\n",
       "      <th>4</th>\n",
       "      <td>151</td>\n",
       "      <td>/PatientID_151/HR_151.csv</td>\n",
       "    </tr>\n",
       "    <tr>\n",
       "      <th>...</th>\n",
       "      <td>...</td>\n",
       "      <td>...</td>\n",
       "    </tr>\n",
       "    <tr>\n",
       "      <th>111</th>\n",
       "      <td>38</td>\n",
       "      <td>/PatientID_38/HR_38.csv</td>\n",
       "    </tr>\n",
       "    <tr>\n",
       "      <th>112</th>\n",
       "      <td>115</td>\n",
       "      <td>/PatientID_115/HR_115.csv</td>\n",
       "    </tr>\n",
       "    <tr>\n",
       "      <th>113</th>\n",
       "      <td>36</td>\n",
       "      <td>/PatientID_36/HR_36.csv</td>\n",
       "    </tr>\n",
       "    <tr>\n",
       "      <th>114</th>\n",
       "      <td>918</td>\n",
       "      <td>/PatientID_918/HR_918.csv</td>\n",
       "    </tr>\n",
       "    <tr>\n",
       "      <th>115</th>\n",
       "      <td>31</td>\n",
       "      <td>/PatientID_31/HR_31.csv</td>\n",
       "    </tr>\n",
       "  </tbody>\n",
       "</table>\n",
       "<p>116 rows × 2 columns</p>\n",
       "</div>"
      ],
      "text/plain": [
       "      id                    hr_path\n",
       "0     75    /PatientID_75/HR_75.csv\n",
       "1     81    /PatientID_81/HR_81.csv\n",
       "2    158  /PatientID_158/HR_158.csv\n",
       "3     72    /PatientID_72/HR_72.csv\n",
       "4    151  /PatientID_151/HR_151.csv\n",
       "..   ...                        ...\n",
       "111   38    /PatientID_38/HR_38.csv\n",
       "112  115  /PatientID_115/HR_115.csv\n",
       "113   36    /PatientID_36/HR_36.csv\n",
       "114  918  /PatientID_918/HR_918.csv\n",
       "115   31    /PatientID_31/HR_31.csv\n",
       "\n",
       "[116 rows x 2 columns]"
      ]
     },
     "execution_count": 20,
     "metadata": {},
     "output_type": "execute_result"
    }
   ],
   "source": [
    "df_hr_path"
   ]
  },
  {
   "cell_type": "code",
   "execution_count": 21,
   "metadata": {},
   "outputs": [],
   "source": [
    "df = pd.merge(df_acc_path, df_hr_path, on='id', how='outer')"
   ]
  },
  {
   "cell_type": "code",
   "execution_count": 22,
   "metadata": {},
   "outputs": [
    {
     "data": {
      "text/html": [
       "<div>\n",
       "<style scoped>\n",
       "    .dataframe tbody tr th:only-of-type {\n",
       "        vertical-align: middle;\n",
       "    }\n",
       "\n",
       "    .dataframe tbody tr th {\n",
       "        vertical-align: top;\n",
       "    }\n",
       "\n",
       "    .dataframe thead th {\n",
       "        text-align: right;\n",
       "    }\n",
       "</style>\n",
       "<table border=\"1\" class=\"dataframe\">\n",
       "  <thead>\n",
       "    <tr style=\"text-align: right;\">\n",
       "      <th></th>\n",
       "      <th>id</th>\n",
       "      <th>acc_path</th>\n",
       "      <th>hr_path</th>\n",
       "    </tr>\n",
       "  </thead>\n",
       "  <tbody>\n",
       "    <tr>\n",
       "      <th>0</th>\n",
       "      <td>75</td>\n",
       "      <td>/PatientID_75/ACC_75.csv</td>\n",
       "      <td>/PatientID_75/HR_75.csv</td>\n",
       "    </tr>\n",
       "    <tr>\n",
       "      <th>1</th>\n",
       "      <td>81</td>\n",
       "      <td>/PatientID_81/ACC_81.csv</td>\n",
       "      <td>/PatientID_81/HR_81.csv</td>\n",
       "    </tr>\n",
       "    <tr>\n",
       "      <th>2</th>\n",
       "      <td>158</td>\n",
       "      <td>/PatientID_158/ACC_158.csv</td>\n",
       "      <td>/PatientID_158/HR_158.csv</td>\n",
       "    </tr>\n",
       "    <tr>\n",
       "      <th>3</th>\n",
       "      <td>72</td>\n",
       "      <td>/PatientID_72/ACC_72.csv</td>\n",
       "      <td>/PatientID_72/HR_72.csv</td>\n",
       "    </tr>\n",
       "    <tr>\n",
       "      <th>4</th>\n",
       "      <td>151</td>\n",
       "      <td>/PatientID_151/ACC_151.csv</td>\n",
       "      <td>/PatientID_151/HR_151.csv</td>\n",
       "    </tr>\n",
       "    <tr>\n",
       "      <th>...</th>\n",
       "      <td>...</td>\n",
       "      <td>...</td>\n",
       "      <td>...</td>\n",
       "    </tr>\n",
       "    <tr>\n",
       "      <th>111</th>\n",
       "      <td>36</td>\n",
       "      <td>/PatientID_36/ACC_36.csv</td>\n",
       "      <td>/PatientID_36/HR_36.csv</td>\n",
       "    </tr>\n",
       "    <tr>\n",
       "      <th>112</th>\n",
       "      <td>918</td>\n",
       "      <td>/PatientID_918/ACC_918.csv</td>\n",
       "      <td>/PatientID_918/HR_918.csv</td>\n",
       "    </tr>\n",
       "    <tr>\n",
       "      <th>113</th>\n",
       "      <td>31</td>\n",
       "      <td>/PatientID_31/ACC_31.csv</td>\n",
       "      <td>/PatientID_31/HR_31.csv</td>\n",
       "    </tr>\n",
       "    <tr>\n",
       "      <th>114</th>\n",
       "      <td>139</td>\n",
       "      <td>NaN</td>\n",
       "      <td>/PatientID_139/HR_139.csv</td>\n",
       "    </tr>\n",
       "    <tr>\n",
       "      <th>115</th>\n",
       "      <td>137</td>\n",
       "      <td>NaN</td>\n",
       "      <td>/PatientID_137/HR_137.csv</td>\n",
       "    </tr>\n",
       "  </tbody>\n",
       "</table>\n",
       "<p>116 rows × 3 columns</p>\n",
       "</div>"
      ],
      "text/plain": [
       "      id                    acc_path                    hr_path\n",
       "0     75    /PatientID_75/ACC_75.csv    /PatientID_75/HR_75.csv\n",
       "1     81    /PatientID_81/ACC_81.csv    /PatientID_81/HR_81.csv\n",
       "2    158  /PatientID_158/ACC_158.csv  /PatientID_158/HR_158.csv\n",
       "3     72    /PatientID_72/ACC_72.csv    /PatientID_72/HR_72.csv\n",
       "4    151  /PatientID_151/ACC_151.csv  /PatientID_151/HR_151.csv\n",
       "..   ...                         ...                        ...\n",
       "111   36    /PatientID_36/ACC_36.csv    /PatientID_36/HR_36.csv\n",
       "112  918  /PatientID_918/ACC_918.csv  /PatientID_918/HR_918.csv\n",
       "113   31    /PatientID_31/ACC_31.csv    /PatientID_31/HR_31.csv\n",
       "114  139                         NaN  /PatientID_139/HR_139.csv\n",
       "115  137                         NaN  /PatientID_137/HR_137.csv\n",
       "\n",
       "[116 rows x 3 columns]"
      ]
     },
     "execution_count": 22,
     "metadata": {},
     "output_type": "execute_result"
    }
   ],
   "source": [
    "df"
   ]
  },
  {
   "cell_type": "code",
   "execution_count": 24,
   "metadata": {},
   "outputs": [],
   "source": [
    "df.to_csv('/Users/sabah/Desktop/path.csv', index=False)"
   ]
  },
  {
   "cell_type": "code",
   "execution_count": 123,
   "metadata": {},
   "outputs": [],
   "source": [
    "df.to_sql('user_patient', con = engine, if_exists = 'replace', index = False)"
   ]
  },
  {
   "cell_type": "code",
   "execution_count": 4,
   "metadata": {},
   "outputs": [],
   "source": [
    "df_edit = pd.read_csv('path.csv')"
   ]
  },
  {
   "cell_type": "code",
   "execution_count": 5,
   "metadata": {},
   "outputs": [
    {
     "data": {
      "text/html": "<div>\n<style scoped>\n    .dataframe tbody tr th:only-of-type {\n        vertical-align: middle;\n    }\n\n    .dataframe tbody tr th {\n        vertical-align: top;\n    }\n\n    .dataframe thead th {\n        text-align: right;\n    }\n</style>\n<table border=\"1\" class=\"dataframe\">\n  <thead>\n    <tr style=\"text-align: right;\">\n      <th></th>\n      <th>id</th>\n      <th>acc_path</th>\n      <th>hr_path</th>\n    </tr>\n  </thead>\n  <tbody>\n    <tr>\n      <th>0</th>\n      <td>75</td>\n      <td>/PatientID_75/ACC_75.csv</td>\n      <td>/PatientID_75/HR_75.csv</td>\n    </tr>\n    <tr>\n      <th>1</th>\n      <td>81</td>\n      <td>/PatientID_81/ACC_81.csv</td>\n      <td>/PatientID_81/HR_81.csv</td>\n    </tr>\n    <tr>\n      <th>2</th>\n      <td>158</td>\n      <td>/PatientID_158/ACC_158.csv</td>\n      <td>/PatientID_158/HR_158.csv</td>\n    </tr>\n    <tr>\n      <th>3</th>\n      <td>72</td>\n      <td>/PatientID_72/ACC_72.csv</td>\n      <td>/PatientID_72/HR_72.csv</td>\n    </tr>\n    <tr>\n      <th>4</th>\n      <td>151</td>\n      <td>/PatientID_151/ACC_151.csv</td>\n      <td>/PatientID_151/HR_151.csv</td>\n    </tr>\n    <tr>\n      <th>...</th>\n      <td>...</td>\n      <td>...</td>\n      <td>...</td>\n    </tr>\n    <tr>\n      <th>111</th>\n      <td>36</td>\n      <td>/PatientID_36/ACC_36.csv</td>\n      <td>/PatientID_36/HR_36.csv</td>\n    </tr>\n    <tr>\n      <th>112</th>\n      <td>918</td>\n      <td>/PatientID_918/ACC_918.csv</td>\n      <td>/PatientID_918/HR_918.csv</td>\n    </tr>\n    <tr>\n      <th>113</th>\n      <td>31</td>\n      <td>/PatientID_31/ACC_31.csv</td>\n      <td>/PatientID_31/HR_31.csv</td>\n    </tr>\n    <tr>\n      <th>114</th>\n      <td>139</td>\n      <td>NaN</td>\n      <td>/PatientID_139/HR_139.csv</td>\n    </tr>\n    <tr>\n      <th>115</th>\n      <td>137</td>\n      <td>NaN</td>\n      <td>/PatientID_137/HR_137.csv</td>\n    </tr>\n  </tbody>\n</table>\n<p>116 rows × 3 columns</p>\n</div>",
      "text/plain": [
       "      id                    acc_path                    hr_path\n",
       "0     75    /PatientID_75/ACC_75.csv    /PatientID_75/HR_75.csv\n",
       "1     81    /PatientID_81/ACC_81.csv    /PatientID_81/HR_81.csv\n",
       "2    158  /PatientID_158/ACC_158.csv  /PatientID_158/HR_158.csv\n",
       "3     72    /PatientID_72/ACC_72.csv    /PatientID_72/HR_72.csv\n",
       "4    151  /PatientID_151/ACC_151.csv  /PatientID_151/HR_151.csv\n",
       "..   ...                         ...                        ...\n",
       "111   36    /PatientID_36/ACC_36.csv    /PatientID_36/HR_36.csv\n",
       "112  918  /PatientID_918/ACC_918.csv  /PatientID_918/HR_918.csv\n",
       "113   31    /PatientID_31/ACC_31.csv    /PatientID_31/HR_31.csv\n",
       "114  139                         NaN  /PatientID_139/HR_139.csv\n",
       "115  137                         NaN  /PatientID_137/HR_137.csv\n",
       "\n",
       "[116 rows x 3 columns]"
      ]
     },
     "execution_count": 5,
     "metadata": {},
     "output_type": "execute_result"
    }
   ],
   "source": [
    "df_edit"
   ]
  },
  {
   "cell_type": "code",
   "execution_count": 6,
   "metadata": {},
   "outputs": [],
   "source": [
    "df_edit['doctor_id'] = 0"
   ]
  },
  {
   "cell_type": "code",
   "execution_count": 7,
   "metadata": {},
   "outputs": [
    {
     "data": {
      "text/html": "<div>\n<style scoped>\n    .dataframe tbody tr th:only-of-type {\n        vertical-align: middle;\n    }\n\n    .dataframe tbody tr th {\n        vertical-align: top;\n    }\n\n    .dataframe thead th {\n        text-align: right;\n    }\n</style>\n<table border=\"1\" class=\"dataframe\">\n  <thead>\n    <tr style=\"text-align: right;\">\n      <th></th>\n      <th>id</th>\n      <th>acc_path</th>\n      <th>hr_path</th>\n      <th>doctor_id</th>\n    </tr>\n  </thead>\n  <tbody>\n    <tr>\n      <th>0</th>\n      <td>75</td>\n      <td>/PatientID_75/ACC_75.csv</td>\n      <td>/PatientID_75/HR_75.csv</td>\n      <td>0</td>\n    </tr>\n    <tr>\n      <th>1</th>\n      <td>81</td>\n      <td>/PatientID_81/ACC_81.csv</td>\n      <td>/PatientID_81/HR_81.csv</td>\n      <td>0</td>\n    </tr>\n    <tr>\n      <th>2</th>\n      <td>158</td>\n      <td>/PatientID_158/ACC_158.csv</td>\n      <td>/PatientID_158/HR_158.csv</td>\n      <td>0</td>\n    </tr>\n    <tr>\n      <th>3</th>\n      <td>72</td>\n      <td>/PatientID_72/ACC_72.csv</td>\n      <td>/PatientID_72/HR_72.csv</td>\n      <td>0</td>\n    </tr>\n    <tr>\n      <th>4</th>\n      <td>151</td>\n      <td>/PatientID_151/ACC_151.csv</td>\n      <td>/PatientID_151/HR_151.csv</td>\n      <td>0</td>\n    </tr>\n    <tr>\n      <th>...</th>\n      <td>...</td>\n      <td>...</td>\n      <td>...</td>\n      <td>...</td>\n    </tr>\n    <tr>\n      <th>111</th>\n      <td>36</td>\n      <td>/PatientID_36/ACC_36.csv</td>\n      <td>/PatientID_36/HR_36.csv</td>\n      <td>0</td>\n    </tr>\n    <tr>\n      <th>112</th>\n      <td>918</td>\n      <td>/PatientID_918/ACC_918.csv</td>\n      <td>/PatientID_918/HR_918.csv</td>\n      <td>0</td>\n    </tr>\n    <tr>\n      <th>113</th>\n      <td>31</td>\n      <td>/PatientID_31/ACC_31.csv</td>\n      <td>/PatientID_31/HR_31.csv</td>\n      <td>0</td>\n    </tr>\n    <tr>\n      <th>114</th>\n      <td>139</td>\n      <td>NaN</td>\n      <td>/PatientID_139/HR_139.csv</td>\n      <td>0</td>\n    </tr>\n    <tr>\n      <th>115</th>\n      <td>137</td>\n      <td>NaN</td>\n      <td>/PatientID_137/HR_137.csv</td>\n      <td>0</td>\n    </tr>\n  </tbody>\n</table>\n<p>116 rows × 4 columns</p>\n</div>",
      "text/plain": [
       "      id                    acc_path                    hr_path  doctor_id\n",
       "0     75    /PatientID_75/ACC_75.csv    /PatientID_75/HR_75.csv          0\n",
       "1     81    /PatientID_81/ACC_81.csv    /PatientID_81/HR_81.csv          0\n",
       "2    158  /PatientID_158/ACC_158.csv  /PatientID_158/HR_158.csv          0\n",
       "3     72    /PatientID_72/ACC_72.csv    /PatientID_72/HR_72.csv          0\n",
       "4    151  /PatientID_151/ACC_151.csv  /PatientID_151/HR_151.csv          0\n",
       "..   ...                         ...                        ...        ...\n",
       "111   36    /PatientID_36/ACC_36.csv    /PatientID_36/HR_36.csv          0\n",
       "112  918  /PatientID_918/ACC_918.csv  /PatientID_918/HR_918.csv          0\n",
       "113   31    /PatientID_31/ACC_31.csv    /PatientID_31/HR_31.csv          0\n",
       "114  139                         NaN  /PatientID_139/HR_139.csv          0\n",
       "115  137                         NaN  /PatientID_137/HR_137.csv          0\n",
       "\n",
       "[116 rows x 4 columns]"
      ]
     },
     "execution_count": 7,
     "metadata": {},
     "output_type": "execute_result"
    }
   ],
   "source": [
    "df_edit"
   ]
  },
  {
   "cell_type": "code",
   "execution_count": 9,
   "metadata": {},
   "outputs": [],
   "source": [
    "df_edit.to_csv('path_doc_id.csv', index=False)"
   ]
  },
  {
   "cell_type": "code",
   "execution_count": 3,
   "metadata": {},
   "outputs": [],
   "source": [
    "df_edit = pd.read_csv('path_doc_id.csv')\n"
   ]
  },
  {
   "cell_type": "code",
   "execution_count": 4,
   "metadata": {},
   "outputs": [],
   "source": [
    "df_edit.to_sql('user_patient', con = engine, if_exists = 'replace', index = False)"
   ]
  },
  {
   "cell_type": "code",
   "execution_count": null,
   "metadata": {},
   "outputs": [],
   "source": []
  }
 ],
 "metadata": {
  "kernelspec": {
   "display_name": "Python 3",
   "language": "python",
   "name": "python3"
  },
  "language_info": {
   "codemirror_mode": {
    "name": "ipython",
    "version": 3
   },
   "file_extension": ".py",
   "mimetype": "text/x-python",
   "name": "python",
   "nbconvert_exporter": "python",
   "pygments_lexer": "ipython3",
   "version": "3.8.5"
  }
 },
 "nbformat": 4,
 "nbformat_minor": 4
}